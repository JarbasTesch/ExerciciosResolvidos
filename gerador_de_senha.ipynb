{
 "cells": [
  {
   "cell_type": "code",
   "execution_count": null,
   "id": "2162fad4",
   "metadata": {},
   "outputs": [],
   "source": [
    "from string import ascii_letters, digits, punctuation\n",
    "from random import choice, choices, shuffle\n",
    "\n",
    "\n",
    "def gerar_senha(tamanho):\n",
    "    if tamanho < 4 or tamanho >25:\n",
    "        print('A senha precisa ter entre 4 a 25 caracteres.\\n')\n",
    "    else:\n",
    "        senha = [\n",
    "            random.choice(string.ascii_letters),\n",
    "            random.choice(string.digits),\n",
    "            random.choice(string.punctuation),\n",
    "        ]\n",
    "        \n",
    "        possibilidades = \"\".join([string.ascii_letters, string.digits, string.punctuation])\n",
    "        senha.extend(random.choices(possibilidades, k=tamanho-3))\n",
    "        random.shuffle(senha)\n",
    "        \n",
    "        return \"\".join(senha)\n",
    "\n",
    "tamanho = int(input('Quantos caracteres a senha deve ter?'))\n",
    "print(gerar_senha(tamanho))"
   ]
  }
 ],
 "metadata": {
  "kernelspec": {
   "display_name": "Python 3 (ipykernel)",
   "language": "python",
   "name": "python3"
  },
  "language_info": {
   "codemirror_mode": {
    "name": "ipython",
    "version": 3
   },
   "file_extension": ".py",
   "mimetype": "text/x-python",
   "name": "python",
   "nbconvert_exporter": "python",
   "pygments_lexer": "ipython3",
   "version": "3.11.4"
  }
 },
 "nbformat": 4,
 "nbformat_minor": 5
}
